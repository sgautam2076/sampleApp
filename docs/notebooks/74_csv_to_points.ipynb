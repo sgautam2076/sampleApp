{
  "cells": [
    {
      "cell_type": "markdown",
      "metadata": {
        "id": "njj_18a8KUAk"
      },
      "source": [
        "<a href=\"https://githubtocolab.com/gee-community/geemap/blob/master/examples/notebooks/xy_to_points.ipynb\" target=\"_parent\"><img src=\"https://colab.research.google.com/assets/colab-badge.svg\" alt=\"Open in Colab\"/></a>\n",
        "\n",
        "Uncomment the following line to install [geemap](https://geemap.org) if needed."
      ],
      "id": "njj_18a8KUAk"
    },
    {
      "cell_type": "code",
      "execution_count": 2,
      "metadata": {
        "id": "6k7G2beDKUAn"
      },
      "outputs": [],
      "source": [
        "#pip install geemap"
      ],
      "id": "6k7G2beDKUAn"
    },
    {
      "cell_type": "code",
      "execution_count": 3,
      "metadata": {
        "id": "7IwO5bKbKUAo"
      },
      "outputs": [],
      "source": [
        "import os\n",
        "import geemap"
      ],
      "id": "7IwO5bKbKUAo"
    },
    {
      "cell_type": "code",
      "execution_count": null,
      "metadata": {
        "id": "FB9NenLtKUAo"
      },
      "outputs": [],
      "source": [
        "# geemap.update_package()"
      ],
      "id": "FB9NenLtKUAo"
    },
    {
      "cell_type": "code",
      "execution_count": 4,
      "metadata": {
        "id": "gxdJ1Y5qKUAp",
        "outputId": "32f53557-38dd-4beb-e1d9-ee4d007676c7",
        "colab": {
          "base_uri": "https://localhost:8080/",
          "height": 780,
          "referenced_widgets": [
            "389b8cfc6fd7475f9e003fa3168f3310",
            "50cbcd50d257462fb322b109ed6e58d1",
            "14a6268877834f0bb64d4170fcf6d016",
            "d0ca54cdfd6f4e35a44ec3b1aa96662d",
            "e4d886b2d2834cfbbf0f38cd7216c4d7",
            "579884f8546147b489553e623d53d4fc",
            "79654a7dfd624236b051911ba4c7996e",
            "ab27ca9fc5df4a03ba5672f2a4429527",
            "d391cd0d660341d6a89524d7f0d0998f",
            "3618c121485e41f7831a9717d706bfdc",
            "cf657d7a2e0948b0a500fb97adbcfb13",
            "23f755d3b7f34d10a4866a992a6181fb",
            "4453d2b9049843729ee0f3659e0bb980",
            "4fe0a0cd8816465095e958e954143b85",
            "eff0727bced5461a8861c7446901d798",
            "7761d976d4674b3c9e2cc0255df91b45",
            "4d6ac7134ec549a8b8aa40421682fa98",
            "21488bef7ef14ddf875ddc0de8886d61",
            "3011fb5d837045cc81da4207cc0693cd",
            "4ac4f0b253f84577891588f07ca1fd3f",
            "1d19eaac6a8f4f938dc1a04701880502",
            "65129400dd7342d9a6de1ebef17e0e9c",
            "3e4ad20434d949459e72c54261fb09a1",
            "8a6df1ef43cb4da79ac7257d00e7b9d7",
            "559aab8580fd4091bfce4ede29b665d0",
            "d8f9e49054c64bf4b0c6e301cbc4d06e"
          ]
        }
      },
      "outputs": [
        {
          "output_type": "stream",
          "name": "stdout",
          "text": [
            "To authorize access needed by Earth Engine, open the following URL in a web browser and follow the instructions. If the web browser does not start automatically, please manually browse the URL below.\n",
            "\n",
            "    https://code.earthengine.google.com/client-auth?scopes=https%3A//www.googleapis.com/auth/earthengine%20https%3A//www.googleapis.com/auth/devstorage.full_control&request_id=vLuqD1T2NBjYRWFu8zHOhyJ3U_g_Be73vzi-leC-DcY&tc=YC3GSQudbeLFAaLKIxA2YUooDnbl6dWczB_CdPTMN-U&cc=9XI_Ha7Mz0lMVLQSJOIarM6yXRkKlyBnR6Ui22b27I8\n",
            "\n",
            "The authorization workflow will generate a code, which you should paste in the box below.\n",
            "Enter verification code: 4/1AZEOvhX7DQ4JhF_qwPRsNm0Kb_uoAVf1Fpojh2Mz79SB842RN34BKO_f4Sc\n",
            "\n",
            "Successfully saved authorization token.\n"
          ]
        },
        {
          "output_type": "display_data",
          "data": {
            "text/plain": [
              "Map(center=[20, 0], controls=(WidgetControl(options=['position', 'transparent_bg'], widget=HBox(children=(Togg…"
            ],
            "application/vnd.jupyter.widget-view+json": {
              "version_major": 2,
              "version_minor": 0,
              "model_id": "389b8cfc6fd7475f9e003fa3168f3310"
            }
          },
          "metadata": {
            "application/vnd.jupyter.widget-view+json": {
              "colab": {
                "custom_widget_manager": {
                  "url": "https://ssl.gstatic.com/colaboratory-static/widgets/colab-cdn-widget-manager/b3e629b1971e1542/manager.min.js"
                }
              }
            }
          }
        }
      ],
      "source": [
        "Map = geemap.Map()\n",
        "Map"
      ],
      "id": "gxdJ1Y5qKUAp"
    },
    {
      "cell_type": "code",
      "execution_count": 5,
      "metadata": {
        "id": "sorjGS6KKUAp"
      },
      "outputs": [],
      "source": [
        "in_csv = 'https://raw.githubusercontent.com/giswqs/data/main/world/world_cities.csv'"
      ],
      "id": "sorjGS6KKUAp"
    },
    {
      "cell_type": "code",
      "execution_count": 6,
      "metadata": {
        "id": "yBlo0JQEKUAp",
        "outputId": "b3edcdf3-5b3c-4815-cbbd-dcabc7c2a244",
        "colab": {
          "base_uri": "https://localhost:8080/",
          "height": 424
        }
      },
      "outputs": [
        {
          "output_type": "execute_result",
          "data": {
            "text/plain": [
              "        id            name country  latitude  longitude  population\n",
              "0        1           Bombo     UGA   0.58330   32.53330       75000\n",
              "1        2     Fort Portal     UGA   0.67100   30.27500       42670\n",
              "2        3         Potenza     ITA  40.64200   15.79900       69060\n",
              "3        4      Campobasso     ITA  41.56300   14.65600       50762\n",
              "4        5           Aosta     ITA  45.73700    7.31500       34062\n",
              "...    ...             ...     ...       ...        ...         ...\n",
              "1244  1245  Rio de Janeiro     BRA -22.92502  -43.22502    11748000\n",
              "1245  1246       Sao Paulo     BRA -23.55868  -46.62502    18845000\n",
              "1246  1247          Sydney     AUS -33.92001  151.18518     4630000\n",
              "1247  1248       Singapore     SGP   1.29303  103.85582     5183700\n",
              "1248  1249       Hong Kong     CHN  22.30498  114.18501     7206000\n",
              "\n",
              "[1249 rows x 6 columns]"
            ],
            "text/html": [
              "\n",
              "  <div id=\"df-4b1d375e-deba-401f-8269-a66adfdac8b8\">\n",
              "    <div class=\"colab-df-container\">\n",
              "      <div>\n",
              "<style scoped>\n",
              "    .dataframe tbody tr th:only-of-type {\n",
              "        vertical-align: middle;\n",
              "    }\n",
              "\n",
              "    .dataframe tbody tr th {\n",
              "        vertical-align: top;\n",
              "    }\n",
              "\n",
              "    .dataframe thead th {\n",
              "        text-align: right;\n",
              "    }\n",
              "</style>\n",
              "<table border=\"1\" class=\"dataframe\">\n",
              "  <thead>\n",
              "    <tr style=\"text-align: right;\">\n",
              "      <th></th>\n",
              "      <th>id</th>\n",
              "      <th>name</th>\n",
              "      <th>country</th>\n",
              "      <th>latitude</th>\n",
              "      <th>longitude</th>\n",
              "      <th>population</th>\n",
              "    </tr>\n",
              "  </thead>\n",
              "  <tbody>\n",
              "    <tr>\n",
              "      <th>0</th>\n",
              "      <td>1</td>\n",
              "      <td>Bombo</td>\n",
              "      <td>UGA</td>\n",
              "      <td>0.58330</td>\n",
              "      <td>32.53330</td>\n",
              "      <td>75000</td>\n",
              "    </tr>\n",
              "    <tr>\n",
              "      <th>1</th>\n",
              "      <td>2</td>\n",
              "      <td>Fort Portal</td>\n",
              "      <td>UGA</td>\n",
              "      <td>0.67100</td>\n",
              "      <td>30.27500</td>\n",
              "      <td>42670</td>\n",
              "    </tr>\n",
              "    <tr>\n",
              "      <th>2</th>\n",
              "      <td>3</td>\n",
              "      <td>Potenza</td>\n",
              "      <td>ITA</td>\n",
              "      <td>40.64200</td>\n",
              "      <td>15.79900</td>\n",
              "      <td>69060</td>\n",
              "    </tr>\n",
              "    <tr>\n",
              "      <th>3</th>\n",
              "      <td>4</td>\n",
              "      <td>Campobasso</td>\n",
              "      <td>ITA</td>\n",
              "      <td>41.56300</td>\n",
              "      <td>14.65600</td>\n",
              "      <td>50762</td>\n",
              "    </tr>\n",
              "    <tr>\n",
              "      <th>4</th>\n",
              "      <td>5</td>\n",
              "      <td>Aosta</td>\n",
              "      <td>ITA</td>\n",
              "      <td>45.73700</td>\n",
              "      <td>7.31500</td>\n",
              "      <td>34062</td>\n",
              "    </tr>\n",
              "    <tr>\n",
              "      <th>...</th>\n",
              "      <td>...</td>\n",
              "      <td>...</td>\n",
              "      <td>...</td>\n",
              "      <td>...</td>\n",
              "      <td>...</td>\n",
              "      <td>...</td>\n",
              "    </tr>\n",
              "    <tr>\n",
              "      <th>1244</th>\n",
              "      <td>1245</td>\n",
              "      <td>Rio de Janeiro</td>\n",
              "      <td>BRA</td>\n",
              "      <td>-22.92502</td>\n",
              "      <td>-43.22502</td>\n",
              "      <td>11748000</td>\n",
              "    </tr>\n",
              "    <tr>\n",
              "      <th>1245</th>\n",
              "      <td>1246</td>\n",
              "      <td>Sao Paulo</td>\n",
              "      <td>BRA</td>\n",
              "      <td>-23.55868</td>\n",
              "      <td>-46.62502</td>\n",
              "      <td>18845000</td>\n",
              "    </tr>\n",
              "    <tr>\n",
              "      <th>1246</th>\n",
              "      <td>1247</td>\n",
              "      <td>Sydney</td>\n",
              "      <td>AUS</td>\n",
              "      <td>-33.92001</td>\n",
              "      <td>151.18518</td>\n",
              "      <td>4630000</td>\n",
              "    </tr>\n",
              "    <tr>\n",
              "      <th>1247</th>\n",
              "      <td>1248</td>\n",
              "      <td>Singapore</td>\n",
              "      <td>SGP</td>\n",
              "      <td>1.29303</td>\n",
              "      <td>103.85582</td>\n",
              "      <td>5183700</td>\n",
              "    </tr>\n",
              "    <tr>\n",
              "      <th>1248</th>\n",
              "      <td>1249</td>\n",
              "      <td>Hong Kong</td>\n",
              "      <td>CHN</td>\n",
              "      <td>22.30498</td>\n",
              "      <td>114.18501</td>\n",
              "      <td>7206000</td>\n",
              "    </tr>\n",
              "  </tbody>\n",
              "</table>\n",
              "<p>1249 rows × 6 columns</p>\n",
              "</div>\n",
              "      <button class=\"colab-df-convert\" onclick=\"convertToInteractive('df-4b1d375e-deba-401f-8269-a66adfdac8b8')\"\n",
              "              title=\"Convert this dataframe to an interactive table.\"\n",
              "              style=\"display:none;\">\n",
              "        \n",
              "  <svg xmlns=\"http://www.w3.org/2000/svg\" height=\"24px\"viewBox=\"0 0 24 24\"\n",
              "       width=\"24px\">\n",
              "    <path d=\"M0 0h24v24H0V0z\" fill=\"none\"/>\n",
              "    <path d=\"M18.56 5.44l.94 2.06.94-2.06 2.06-.94-2.06-.94-.94-2.06-.94 2.06-2.06.94zm-11 1L8.5 8.5l.94-2.06 2.06-.94-2.06-.94L8.5 2.5l-.94 2.06-2.06.94zm10 10l.94 2.06.94-2.06 2.06-.94-2.06-.94-.94-2.06-.94 2.06-2.06.94z\"/><path d=\"M17.41 7.96l-1.37-1.37c-.4-.4-.92-.59-1.43-.59-.52 0-1.04.2-1.43.59L10.3 9.45l-7.72 7.72c-.78.78-.78 2.05 0 2.83L4 21.41c.39.39.9.59 1.41.59.51 0 1.02-.2 1.41-.59l7.78-7.78 2.81-2.81c.8-.78.8-2.07 0-2.86zM5.41 20L4 18.59l7.72-7.72 1.47 1.35L5.41 20z\"/>\n",
              "  </svg>\n",
              "      </button>\n",
              "      \n",
              "  <style>\n",
              "    .colab-df-container {\n",
              "      display:flex;\n",
              "      flex-wrap:wrap;\n",
              "      gap: 12px;\n",
              "    }\n",
              "\n",
              "    .colab-df-convert {\n",
              "      background-color: #E8F0FE;\n",
              "      border: none;\n",
              "      border-radius: 50%;\n",
              "      cursor: pointer;\n",
              "      display: none;\n",
              "      fill: #1967D2;\n",
              "      height: 32px;\n",
              "      padding: 0 0 0 0;\n",
              "      width: 32px;\n",
              "    }\n",
              "\n",
              "    .colab-df-convert:hover {\n",
              "      background-color: #E2EBFA;\n",
              "      box-shadow: 0px 1px 2px rgba(60, 64, 67, 0.3), 0px 1px 3px 1px rgba(60, 64, 67, 0.15);\n",
              "      fill: #174EA6;\n",
              "    }\n",
              "\n",
              "    [theme=dark] .colab-df-convert {\n",
              "      background-color: #3B4455;\n",
              "      fill: #D2E3FC;\n",
              "    }\n",
              "\n",
              "    [theme=dark] .colab-df-convert:hover {\n",
              "      background-color: #434B5C;\n",
              "      box-shadow: 0px 1px 3px 1px rgba(0, 0, 0, 0.15);\n",
              "      filter: drop-shadow(0px 1px 2px rgba(0, 0, 0, 0.3));\n",
              "      fill: #FFFFFF;\n",
              "    }\n",
              "  </style>\n",
              "\n",
              "      <script>\n",
              "        const buttonEl =\n",
              "          document.querySelector('#df-4b1d375e-deba-401f-8269-a66adfdac8b8 button.colab-df-convert');\n",
              "        buttonEl.style.display =\n",
              "          google.colab.kernel.accessAllowed ? 'block' : 'none';\n",
              "\n",
              "        async function convertToInteractive(key) {\n",
              "          const element = document.querySelector('#df-4b1d375e-deba-401f-8269-a66adfdac8b8');\n",
              "          const dataTable =\n",
              "            await google.colab.kernel.invokeFunction('convertToInteractive',\n",
              "                                                     [key], {});\n",
              "          if (!dataTable) return;\n",
              "\n",
              "          const docLinkHtml = 'Like what you see? Visit the ' +\n",
              "            '<a target=\"_blank\" href=https://colab.research.google.com/notebooks/data_table.ipynb>data table notebook</a>'\n",
              "            + ' to learn more about interactive tables.';\n",
              "          element.innerHTML = '';\n",
              "          dataTable['output_type'] = 'display_data';\n",
              "          await google.colab.output.renderOutput(dataTable, element);\n",
              "          const docLink = document.createElement('div');\n",
              "          docLink.innerHTML = docLinkHtml;\n",
              "          element.appendChild(docLink);\n",
              "        }\n",
              "      </script>\n",
              "    </div>\n",
              "  </div>\n",
              "  "
            ]
          },
          "metadata": {},
          "execution_count": 6
        }
      ],
      "source": [
        "df = geemap.csv_to_df(in_csv)\n",
        "df"
      ],
      "id": "yBlo0JQEKUAp"
    },
    {
      "cell_type": "code",
      "source": [
        "pip install geojson"
      ],
      "metadata": {
        "id": "6_mOvBCNs4iN",
        "outputId": "64cb9ba1-cd50-49d3-b709-55b9db550f75",
        "colab": {
          "base_uri": "https://localhost:8080/"
        }
      },
      "id": "6_mOvBCNs4iN",
      "execution_count": 2,
      "outputs": [
        {
          "output_type": "stream",
          "name": "stdout",
          "text": [
            "Collecting geojson\n",
            "  Downloading geojson-3.0.1-py3-none-any.whl (15 kB)\n",
            "Installing collected packages: geojson\n",
            "Successfully installed geojson-3.0.1\n"
          ]
        }
      ]
    },
    {
      "cell_type": "code",
      "execution_count": 3,
      "metadata": {
        "id": "3PMMdR3-KUAq",
        "outputId": "f2f2ca06-0a33-41b0-f8e4-d310fec19c0a",
        "colab": {
          "base_uri": "https://localhost:8080/",
          "height": 165
        }
      },
      "outputs": [
        {
          "output_type": "error",
          "ename": "NameError",
          "evalue": "ignored",
          "traceback": [
            "\u001b[0;31m---------------------------------------------------------------------------\u001b[0m",
            "\u001b[0;31mNameError\u001b[0m                                 Traceback (most recent call last)",
            "\u001b[0;32m<ipython-input-3-27200e25c956>\u001b[0m in \u001b[0;36m<cell line: 1>\u001b[0;34m()\u001b[0m\n\u001b[0;32m----> 1\u001b[0;31m \u001b[0mMap\u001b[0m\u001b[0;34m.\u001b[0m\u001b[0madd_xy_data\u001b[0m\u001b[0;34m(\u001b[0m\u001b[0min_csv\u001b[0m\u001b[0;34m,\u001b[0m \u001b[0mx\u001b[0m\u001b[0;34m=\u001b[0m\u001b[0;34m\"longitude\"\u001b[0m\u001b[0;34m,\u001b[0m \u001b[0my\u001b[0m\u001b[0;34m=\u001b[0m\u001b[0;34m\"latitude\"\u001b[0m\u001b[0;34m,\u001b[0m \u001b[0mlayer_name\u001b[0m\u001b[0;34m=\u001b[0m\u001b[0;34m\"csv to ee\"\u001b[0m\u001b[0;34m,\u001b[0m \u001b[0mto_ee\u001b[0m\u001b[0;34m=\u001b[0m\u001b[0;32mTrue\u001b[0m\u001b[0;34m)\u001b[0m\u001b[0;34m\u001b[0m\u001b[0;34m\u001b[0m\u001b[0m\n\u001b[0m",
            "\u001b[0;31mNameError\u001b[0m: name 'Map' is not defined"
          ]
        }
      ],
      "source": [
        "Map.add_xy_data(in_csv, x=\"longitude\", y=\"latitude\", layer_name=\"csv to ee\", to_ee=True)"
      ],
      "id": "3PMMdR3-KUAq"
    },
    {
      "cell_type": "code",
      "execution_count": null,
      "metadata": {
        "id": "-wB93KbfKUAq"
      },
      "outputs": [],
      "source": [
        "fc = geemap.csv_to_ee(in_csv)"
      ],
      "id": "-wB93KbfKUAq"
    },
    {
      "cell_type": "code",
      "execution_count": null,
      "metadata": {
        "id": "tDe-ROr1KUAq"
      },
      "outputs": [],
      "source": [
        "Map.addLayer(fc, {}, 'csv to ee 2')"
      ],
      "id": "tDe-ROr1KUAq"
    },
    {
      "cell_type": "code",
      "execution_count": null,
      "metadata": {
        "id": "vPPnVlPmKUAr"
      },
      "outputs": [],
      "source": [
        "out_dir = os.path.expanduser('~/Downloads')\n",
        "if not os.path.exists(out_dir):\n",
        "    os.makedirs(out_dir)\n",
        "out_shp = os.path.join(out_dir, 'world_cities.shp')"
      ],
      "id": "vPPnVlPmKUAr"
    },
    {
      "cell_type": "code",
      "execution_count": null,
      "metadata": {
        "id": "CgI_yQfIKUAr"
      },
      "outputs": [],
      "source": [
        "geemap.csv_to_shp(in_csv, out_shp)"
      ],
      "id": "CgI_yQfIKUAr"
    },
    {
      "cell_type": "code",
      "execution_count": null,
      "metadata": {
        "id": "Kxr3bFRfKUAr"
      },
      "outputs": [],
      "source": [
        "out_geojson = os.path.join(out_dir, 'world_cities.geojson')\n",
        "geemap.csv_to_geojson(in_csv, out_geojson)"
      ],
      "id": "Kxr3bFRfKUAr"
    },
    {
      "cell_type": "code",
      "execution_count": null,
      "metadata": {
        "id": "9HhelNGUKUAr"
      },
      "outputs": [],
      "source": [
        "gdf = geemap.csv_to_gdf(in_csv)\n",
        "gdf"
      ],
      "id": "9HhelNGUKUAr"
    },
    {
      "cell_type": "code",
      "execution_count": null,
      "metadata": {
        "id": "bhv31KP1KUAr"
      },
      "outputs": [],
      "source": [
        "Map.add_xy_data(in_csv, x=\"longitude\", y=\"latitude\", layer_name=\"Marker cluster\")\n",
        "Map"
      ],
      "id": "bhv31KP1KUAr"
    }
  ],
  "metadata": {
    "kernelspec": {
      "display_name": "Python 3",
      "language": "python",
      "name": "python3"
    },
    "colab": {
      "provenance": []
    },
    "widgets": {
      "application/vnd.jupyter.widget-state+json": {
        "389b8cfc6fd7475f9e003fa3168f3310": {
          "model_module": "jupyter-leaflet",
          "model_name": "LeafletMapModel",
          "model_module_version": "^0.17",
          "state": {
            "_dom_classes": [],
            "_model_module": "jupyter-leaflet",
            "_model_module_version": "^0.17",
            "_model_name": "LeafletMapModel",
            "_view_count": null,
            "_view_module": "jupyter-leaflet",
            "_view_module_version": "^0.17",
            "_view_name": "LeafletMapView",
            "bottom": 555,
            "bounce_at_zoom_limits": true,
            "box_zoom": true,
            "center": [
              -84.92054528795597,
              804.3750000000001
            ],
            "close_popup_on_click": true,
            "controls": [
              "IPY_MODEL_50cbcd50d257462fb322b109ed6e58d1",
              "IPY_MODEL_14a6268877834f0bb64d4170fcf6d016",
              "IPY_MODEL_d0ca54cdfd6f4e35a44ec3b1aa96662d",
              "IPY_MODEL_e4d886b2d2834cfbbf0f38cd7216c4d7",
              "IPY_MODEL_579884f8546147b489553e623d53d4fc",
              "IPY_MODEL_79654a7dfd624236b051911ba4c7996e",
              "IPY_MODEL_ab27ca9fc5df4a03ba5672f2a4429527",
              "IPY_MODEL_d391cd0d660341d6a89524d7f0d0998f"
            ],
            "crs": {
              "name": "EPSG3857",
              "custom": false
            },
            "default_style": "IPY_MODEL_d8f9e49054c64bf4b0c6e301cbc4d06e",
            "double_click_zoom": true,
            "dragging": true,
            "dragging_style": "IPY_MODEL_cf657d7a2e0948b0a500fb97adbcfb13",
            "east": 2027.8125000000002,
            "fullscreen": false,
            "inertia": true,
            "inertia_deceleration": 3000,
            "inertia_max_speed": 1500,
            "interpolation": "bilinear",
            "keyboard": true,
            "keyboard_pan_offset": 80,
            "keyboard_zoom_offset": 1,
            "layers": [
              "IPY_MODEL_23f755d3b7f34d10a4866a992a6181fb",
              "IPY_MODEL_4453d2b9049843729ee0f3659e0bb980"
            ],
            "layout": "IPY_MODEL_4fe0a0cd8816465095e958e954143b85",
            "left": -169,
            "max_zoom": 24,
            "min_zoom": null,
            "modisdate": "2023-07-05",
            "north": 88.35909655492227,
            "options": [
              "bounce_at_zoom_limits",
              "box_zoom",
              "center",
              "close_popup_on_click",
              "double_click_zoom",
              "dragging",
              "fullscreen",
              "inertia",
              "inertia_deceleration",
              "inertia_max_speed",
              "interpolation",
              "keyboard",
              "keyboard_pan_offset",
              "keyboard_zoom_offset",
              "max_zoom",
              "min_zoom",
              "prefer_canvas",
              "scroll_wheel_zoom",
              "tap",
              "tap_tolerance",
              "touch_zoom",
              "world_copy_jump",
              "zoom",
              "zoom_animation_threshold",
              "zoom_delta",
              "zoom_snap"
            ],
            "panes": {},
            "prefer_canvas": false,
            "right": 1570,
            "scroll_wheel_zoom": true,
            "south": -89.99678131567453,
            "style": "IPY_MODEL_d8f9e49054c64bf4b0c6e301cbc4d06e",
            "tap": true,
            "tap_tolerance": 15,
            "top": -45,
            "touch_zoom": true,
            "west": -417.65625000000006,
            "window_url": "https://jswxn4rg2m-496ff2e9c6d22116-0-colab.googleusercontent.com/outputframe.html?vrz=colab-20230705-060126-RC00_545627076",
            "world_copy_jump": false,
            "zoom": 0,
            "zoom_animation_threshold": 4,
            "zoom_delta": 1,
            "zoom_snap": 1
          }
        },
        "50cbcd50d257462fb322b109ed6e58d1": {
          "model_module": "jupyter-leaflet",
          "model_name": "LeafletWidgetControlModel",
          "model_module_version": "^0.17",
          "state": {
            "_model_module": "jupyter-leaflet",
            "_model_module_version": "^0.17",
            "_model_name": "LeafletWidgetControlModel",
            "_view_count": null,
            "_view_module": "jupyter-leaflet",
            "_view_module_version": "^0.17",
            "_view_name": "LeafletWidgetControlView",
            "max_height": null,
            "max_width": null,
            "min_height": null,
            "min_width": null,
            "options": [
              "position",
              "transparent_bg"
            ],
            "position": "topleft",
            "transparent_bg": false,
            "widget": "IPY_MODEL_7761d976d4674b3c9e2cc0255df91b45"
          }
        },
        "14a6268877834f0bb64d4170fcf6d016": {
          "model_module": "jupyter-leaflet",
          "model_name": "LeafletZoomControlModel",
          "model_module_version": "^0.17",
          "state": {
            "_model_module": "jupyter-leaflet",
            "_model_module_version": "^0.17",
            "_model_name": "LeafletZoomControlModel",
            "_view_count": null,
            "_view_module": "jupyter-leaflet",
            "_view_module_version": "^0.17",
            "_view_name": "LeafletZoomControlView",
            "options": [
              "position",
              "zoom_in_text",
              "zoom_in_title",
              "zoom_out_text",
              "zoom_out_title"
            ],
            "position": "topleft",
            "zoom_in_text": "+",
            "zoom_in_title": "Zoom in",
            "zoom_out_text": "-",
            "zoom_out_title": "Zoom out"
          }
        },
        "d0ca54cdfd6f4e35a44ec3b1aa96662d": {
          "model_module": "jupyter-leaflet",
          "model_name": "LeafletFullScreenControlModel",
          "model_module_version": "^0.17",
          "state": {
            "_model_module": "jupyter-leaflet",
            "_model_module_version": "^0.17",
            "_model_name": "LeafletFullScreenControlModel",
            "_view_count": null,
            "_view_module": "jupyter-leaflet",
            "_view_module_version": "^0.17",
            "_view_name": "LeafletFullScreenControlView",
            "options": [
              "position"
            ],
            "position": "topleft"
          }
        },
        "e4d886b2d2834cfbbf0f38cd7216c4d7": {
          "model_module": "jupyter-leaflet",
          "model_name": "LeafletDrawControlModel",
          "model_module_version": "^0.17",
          "state": {
            "_model_module": "jupyter-leaflet",
            "_model_module_version": "^0.17",
            "_model_name": "LeafletDrawControlModel",
            "_view_count": null,
            "_view_module": "jupyter-leaflet",
            "_view_module_version": "^0.17",
            "_view_name": "LeafletDrawControlView",
            "circle": {},
            "circlemarker": {},
            "data": [],
            "edit": true,
            "marker": {
              "shapeOptions": {
                "color": "#3388ff"
              }
            },
            "options": [
              "position"
            ],
            "polygon": {
              "shapeOptions": {}
            },
            "polyline": {
              "shapeOptions": {}
            },
            "position": "topleft",
            "rectangle": {
              "shapeOptions": {
                "color": "#3388ff"
              }
            },
            "remove": true
          }
        },
        "579884f8546147b489553e623d53d4fc": {
          "model_module": "jupyter-leaflet",
          "model_name": "LeafletScaleControlModel",
          "model_module_version": "^0.17",
          "state": {
            "_model_module": "jupyter-leaflet",
            "_model_module_version": "^0.17",
            "_model_name": "LeafletScaleControlModel",
            "_view_count": null,
            "_view_module": "jupyter-leaflet",
            "_view_module_version": "^0.17",
            "_view_name": "LeafletScaleControlView",
            "imperial": true,
            "max_width": 100,
            "metric": true,
            "options": [
              "imperial",
              "max_width",
              "metric",
              "position",
              "update_when_idle"
            ],
            "position": "bottomleft",
            "update_when_idle": false
          }
        },
        "79654a7dfd624236b051911ba4c7996e": {
          "model_module": "jupyter-leaflet",
          "model_name": "LeafletMeasureControlModel",
          "model_module_version": "^0.17",
          "state": {
            "_custom_units": {},
            "_model_module": "jupyter-leaflet",
            "_model_module_version": "^0.17",
            "_model_name": "LeafletMeasureControlModel",
            "_view_count": null,
            "_view_module": "jupyter-leaflet",
            "_view_module_version": "^0.17",
            "_view_name": "LeafletMeasureControlView",
            "active_color": "orange",
            "capture_z_index": 10000,
            "completed_color": "#C8F2BE",
            "options": [
              "active_color",
              "capture_z_index",
              "completed_color",
              "popup_options",
              "position",
              "primary_area_unit",
              "primary_length_unit",
              "secondary_area_unit",
              "secondary_length_unit"
            ],
            "popup_options": {
              "className": "leaflet-measure-resultpopup",
              "autoPanPadding": [
                10,
                10
              ]
            },
            "position": "bottomleft",
            "primary_area_unit": "acres",
            "primary_length_unit": "kilometers",
            "secondary_area_unit": null,
            "secondary_length_unit": null
          }
        },
        "ab27ca9fc5df4a03ba5672f2a4429527": {
          "model_module": "jupyter-leaflet",
          "model_name": "LeafletWidgetControlModel",
          "model_module_version": "^0.17",
          "state": {
            "_model_module": "jupyter-leaflet",
            "_model_module_version": "^0.17",
            "_model_name": "LeafletWidgetControlModel",
            "_view_count": null,
            "_view_module": "jupyter-leaflet",
            "_view_module_version": "^0.17",
            "_view_name": "LeafletWidgetControlView",
            "max_height": null,
            "max_width": null,
            "min_height": null,
            "min_width": null,
            "options": [
              "position",
              "transparent_bg"
            ],
            "position": "topright",
            "transparent_bg": false,
            "widget": "IPY_MODEL_4d6ac7134ec549a8b8aa40421682fa98"
          }
        },
        "d391cd0d660341d6a89524d7f0d0998f": {
          "model_module": "jupyter-leaflet",
          "model_name": "LeafletAttributionControlModel",
          "model_module_version": "^0.17",
          "state": {
            "_model_module": "jupyter-leaflet",
            "_model_module_version": "^0.17",
            "_model_name": "LeafletAttributionControlModel",
            "_view_count": null,
            "_view_module": "jupyter-leaflet",
            "_view_module_version": "^0.17",
            "_view_name": "LeafletAttributionControlView",
            "options": [
              "position",
              "prefix"
            ],
            "position": "bottomright",
            "prefix": "ipyleaflet"
          }
        },
        "3618c121485e41f7831a9717d706bfdc": {
          "model_module": "jupyter-leaflet",
          "model_name": "LeafletMapStyleModel",
          "model_module_version": "^0.17",
          "state": {
            "_model_module": "jupyter-leaflet",
            "_model_module_version": "^0.17",
            "_model_name": "LeafletMapStyleModel",
            "_view_count": null,
            "_view_module": "@jupyter-widgets/base",
            "_view_module_version": "1.2.0",
            "_view_name": "StyleView",
            "cursor": "grab"
          }
        },
        "cf657d7a2e0948b0a500fb97adbcfb13": {
          "model_module": "jupyter-leaflet",
          "model_name": "LeafletMapStyleModel",
          "model_module_version": "^0.17",
          "state": {
            "_model_module": "jupyter-leaflet",
            "_model_module_version": "^0.17",
            "_model_name": "LeafletMapStyleModel",
            "_view_count": null,
            "_view_module": "@jupyter-widgets/base",
            "_view_module_version": "1.2.0",
            "_view_name": "StyleView",
            "cursor": "move"
          }
        },
        "23f755d3b7f34d10a4866a992a6181fb": {
          "model_module": "jupyter-leaflet",
          "model_name": "LeafletTileLayerModel",
          "model_module_version": "^0.17",
          "state": {
            "_model_module": "jupyter-leaflet",
            "_model_module_version": "^0.17",
            "_model_name": "LeafletTileLayerModel",
            "_view_count": null,
            "_view_module": "jupyter-leaflet",
            "_view_module_version": "^0.17",
            "_view_name": "LeafletTileLayerView",
            "attribution": "&copy; <a href=\"https://www.openstreetmap.org/copyright\">OpenStreetMap</a> contributors",
            "base": true,
            "bottom": true,
            "bounds": null,
            "detect_retina": false,
            "loading": false,
            "max_native_zoom": null,
            "max_zoom": 19,
            "min_native_zoom": null,
            "min_zoom": 1,
            "name": "OpenStreetMap.Mapnik",
            "no_wrap": false,
            "opacity": 1,
            "options": [
              "attribution",
              "bounds",
              "detect_retina",
              "max_native_zoom",
              "max_zoom",
              "min_native_zoom",
              "min_zoom",
              "no_wrap",
              "tile_size",
              "tms",
              "zoom_offset"
            ],
            "pane": "",
            "popup": null,
            "popup_max_height": null,
            "popup_max_width": 300,
            "popup_min_width": 50,
            "show_loading": false,
            "subitems": [],
            "tile_size": 256,
            "tms": false,
            "url": "https://tile.openstreetmap.org/{z}/{x}/{y}.png",
            "visible": true,
            "zoom_offset": 0
          }
        },
        "4453d2b9049843729ee0f3659e0bb980": {
          "model_module": "jupyter-leaflet",
          "model_name": "LeafletTileLayerModel",
          "model_module_version": "^0.17",
          "state": {
            "_model_module": "jupyter-leaflet",
            "_model_module_version": "^0.17",
            "_model_name": "LeafletTileLayerModel",
            "_view_count": null,
            "_view_module": "jupyter-leaflet",
            "_view_module_version": "^0.17",
            "_view_name": "LeafletTileLayerView",
            "attribution": "Google",
            "base": false,
            "bottom": true,
            "bounds": null,
            "detect_retina": false,
            "loading": false,
            "max_native_zoom": null,
            "max_zoom": 24,
            "min_native_zoom": null,
            "min_zoom": 0,
            "name": "Google Maps",
            "no_wrap": false,
            "opacity": 1,
            "options": [
              "attribution",
              "bounds",
              "detect_retina",
              "max_native_zoom",
              "max_zoom",
              "min_native_zoom",
              "min_zoom",
              "no_wrap",
              "tile_size",
              "tms",
              "zoom_offset"
            ],
            "pane": "",
            "popup": null,
            "popup_max_height": null,
            "popup_max_width": 300,
            "popup_min_width": 50,
            "show_loading": false,
            "subitems": [],
            "tile_size": 256,
            "tms": false,
            "url": "https://mt1.google.com/vt/lyrs=m&x={x}&y={y}&z={z}",
            "visible": true,
            "zoom_offset": 0
          }
        },
        "4fe0a0cd8816465095e958e954143b85": {
          "model_module": "@jupyter-widgets/base",
          "model_name": "LayoutModel",
          "model_module_version": "1.2.0",
          "state": {
            "_model_module": "@jupyter-widgets/base",
            "_model_module_version": "1.2.0",
            "_model_name": "LayoutModel",
            "_view_count": null,
            "_view_module": "@jupyter-widgets/base",
            "_view_module_version": "1.2.0",
            "_view_name": "LayoutView",
            "align_content": null,
            "align_items": null,
            "align_self": null,
            "border": null,
            "bottom": null,
            "display": null,
            "flex": null,
            "flex_flow": null,
            "grid_area": null,
            "grid_auto_columns": null,
            "grid_auto_flow": null,
            "grid_auto_rows": null,
            "grid_column": null,
            "grid_gap": null,
            "grid_row": null,
            "grid_template_areas": null,
            "grid_template_columns": null,
            "grid_template_rows": null,
            "height": "600px",
            "justify_content": null,
            "justify_items": null,
            "left": null,
            "margin": null,
            "max_height": null,
            "max_width": null,
            "min_height": null,
            "min_width": null,
            "object_fit": null,
            "object_position": null,
            "order": null,
            "overflow": null,
            "overflow_x": null,
            "overflow_y": null,
            "padding": null,
            "right": null,
            "top": null,
            "visibility": null,
            "width": null
          }
        },
        "eff0727bced5461a8861c7446901d798": {
          "model_module": "jupyter-leaflet",
          "model_name": "LeafletMapStyleModel",
          "model_module_version": "^0.17",
          "state": {
            "_model_module": "jupyter-leaflet",
            "_model_module_version": "^0.17",
            "_model_name": "LeafletMapStyleModel",
            "_view_count": null,
            "_view_module": "@jupyter-widgets/base",
            "_view_module_version": "1.2.0",
            "_view_name": "StyleView",
            "cursor": "grab"
          }
        },
        "7761d976d4674b3c9e2cc0255df91b45": {
          "model_module": "@jupyter-widgets/controls",
          "model_name": "HBoxModel",
          "model_module_version": "1.5.0",
          "state": {
            "_dom_classes": [],
            "_model_module": "@jupyter-widgets/controls",
            "_model_module_version": "1.5.0",
            "_model_name": "HBoxModel",
            "_view_count": null,
            "_view_module": "@jupyter-widgets/controls",
            "_view_module_version": "1.5.0",
            "_view_name": "HBoxView",
            "box_style": "",
            "children": [
              "IPY_MODEL_21488bef7ef14ddf875ddc0de8886d61"
            ],
            "layout": "IPY_MODEL_3011fb5d837045cc81da4207cc0693cd"
          }
        },
        "4d6ac7134ec549a8b8aa40421682fa98": {
          "model_module": "@jupyter-widgets/controls",
          "model_name": "VBoxModel",
          "model_module_version": "1.5.0",
          "state": {
            "_dom_classes": [],
            "_model_module": "@jupyter-widgets/controls",
            "_model_module_version": "1.5.0",
            "_model_name": "VBoxModel",
            "_view_count": null,
            "_view_module": "@jupyter-widgets/controls",
            "_view_module_version": "1.5.0",
            "_view_name": "VBoxView",
            "box_style": "",
            "children": [
              "IPY_MODEL_4ac4f0b253f84577891588f07ca1fd3f"
            ],
            "layout": "IPY_MODEL_1d19eaac6a8f4f938dc1a04701880502"
          }
        },
        "21488bef7ef14ddf875ddc0de8886d61": {
          "model_module": "@jupyter-widgets/controls",
          "model_name": "ToggleButtonModel",
          "model_module_version": "1.5.0",
          "state": {
            "_dom_classes": [],
            "_model_module": "@jupyter-widgets/controls",
            "_model_module_version": "1.5.0",
            "_model_name": "ToggleButtonModel",
            "_view_count": null,
            "_view_module": "@jupyter-widgets/controls",
            "_view_module_version": "1.5.0",
            "_view_name": "ToggleButtonView",
            "button_style": "",
            "description": "",
            "description_tooltip": null,
            "disabled": false,
            "icon": "globe",
            "layout": "IPY_MODEL_65129400dd7342d9a6de1ebef17e0e9c",
            "style": "IPY_MODEL_3e4ad20434d949459e72c54261fb09a1",
            "tooltip": "Search location/data",
            "value": false
          }
        },
        "3011fb5d837045cc81da4207cc0693cd": {
          "model_module": "@jupyter-widgets/base",
          "model_name": "LayoutModel",
          "model_module_version": "1.2.0",
          "state": {
            "_model_module": "@jupyter-widgets/base",
            "_model_module_version": "1.2.0",
            "_model_name": "LayoutModel",
            "_view_count": null,
            "_view_module": "@jupyter-widgets/base",
            "_view_module_version": "1.2.0",
            "_view_name": "LayoutView",
            "align_content": null,
            "align_items": null,
            "align_self": null,
            "border": null,
            "bottom": null,
            "display": null,
            "flex": null,
            "flex_flow": null,
            "grid_area": null,
            "grid_auto_columns": null,
            "grid_auto_flow": null,
            "grid_auto_rows": null,
            "grid_column": null,
            "grid_gap": null,
            "grid_row": null,
            "grid_template_areas": null,
            "grid_template_columns": null,
            "grid_template_rows": null,
            "height": null,
            "justify_content": null,
            "justify_items": null,
            "left": null,
            "margin": null,
            "max_height": null,
            "max_width": null,
            "min_height": null,
            "min_width": null,
            "object_fit": null,
            "object_position": null,
            "order": null,
            "overflow": null,
            "overflow_x": null,
            "overflow_y": null,
            "padding": null,
            "right": null,
            "top": null,
            "visibility": null,
            "width": null
          }
        },
        "4ac4f0b253f84577891588f07ca1fd3f": {
          "model_module": "@jupyter-widgets/controls",
          "model_name": "ToggleButtonModel",
          "model_module_version": "1.5.0",
          "state": {
            "_dom_classes": [],
            "_model_module": "@jupyter-widgets/controls",
            "_model_module_version": "1.5.0",
            "_model_name": "ToggleButtonModel",
            "_view_count": null,
            "_view_module": "@jupyter-widgets/controls",
            "_view_module_version": "1.5.0",
            "_view_name": "ToggleButtonView",
            "button_style": "",
            "description": "",
            "description_tooltip": null,
            "disabled": false,
            "icon": "wrench",
            "layout": "IPY_MODEL_8a6df1ef43cb4da79ac7257d00e7b9d7",
            "style": "IPY_MODEL_559aab8580fd4091bfce4ede29b665d0",
            "tooltip": "Toolbar",
            "value": false
          }
        },
        "1d19eaac6a8f4f938dc1a04701880502": {
          "model_module": "@jupyter-widgets/base",
          "model_name": "LayoutModel",
          "model_module_version": "1.2.0",
          "state": {
            "_model_module": "@jupyter-widgets/base",
            "_model_module_version": "1.2.0",
            "_model_name": "LayoutModel",
            "_view_count": null,
            "_view_module": "@jupyter-widgets/base",
            "_view_module_version": "1.2.0",
            "_view_name": "LayoutView",
            "align_content": null,
            "align_items": null,
            "align_self": null,
            "border": null,
            "bottom": null,
            "display": null,
            "flex": null,
            "flex_flow": null,
            "grid_area": null,
            "grid_auto_columns": null,
            "grid_auto_flow": null,
            "grid_auto_rows": null,
            "grid_column": null,
            "grid_gap": null,
            "grid_row": null,
            "grid_template_areas": null,
            "grid_template_columns": null,
            "grid_template_rows": null,
            "height": null,
            "justify_content": null,
            "justify_items": null,
            "left": null,
            "margin": null,
            "max_height": null,
            "max_width": null,
            "min_height": null,
            "min_width": null,
            "object_fit": null,
            "object_position": null,
            "order": null,
            "overflow": null,
            "overflow_x": null,
            "overflow_y": null,
            "padding": null,
            "right": null,
            "top": null,
            "visibility": null,
            "width": null
          }
        },
        "65129400dd7342d9a6de1ebef17e0e9c": {
          "model_module": "@jupyter-widgets/base",
          "model_name": "LayoutModel",
          "model_module_version": "1.2.0",
          "state": {
            "_model_module": "@jupyter-widgets/base",
            "_model_module_version": "1.2.0",
            "_model_name": "LayoutModel",
            "_view_count": null,
            "_view_module": "@jupyter-widgets/base",
            "_view_module_version": "1.2.0",
            "_view_name": "LayoutView",
            "align_content": null,
            "align_items": null,
            "align_self": null,
            "border": null,
            "bottom": null,
            "display": null,
            "flex": null,
            "flex_flow": null,
            "grid_area": null,
            "grid_auto_columns": null,
            "grid_auto_flow": null,
            "grid_auto_rows": null,
            "grid_column": null,
            "grid_gap": null,
            "grid_row": null,
            "grid_template_areas": null,
            "grid_template_columns": null,
            "grid_template_rows": null,
            "height": "28px",
            "justify_content": null,
            "justify_items": null,
            "left": null,
            "margin": null,
            "max_height": null,
            "max_width": null,
            "min_height": null,
            "min_width": null,
            "object_fit": null,
            "object_position": null,
            "order": null,
            "overflow": null,
            "overflow_x": null,
            "overflow_y": null,
            "padding": "0px 0px 0px 4px",
            "right": null,
            "top": null,
            "visibility": null,
            "width": "28px"
          }
        },
        "3e4ad20434d949459e72c54261fb09a1": {
          "model_module": "@jupyter-widgets/controls",
          "model_name": "DescriptionStyleModel",
          "model_module_version": "1.5.0",
          "state": {
            "_model_module": "@jupyter-widgets/controls",
            "_model_module_version": "1.5.0",
            "_model_name": "DescriptionStyleModel",
            "_view_count": null,
            "_view_module": "@jupyter-widgets/base",
            "_view_module_version": "1.2.0",
            "_view_name": "StyleView",
            "description_width": ""
          }
        },
        "8a6df1ef43cb4da79ac7257d00e7b9d7": {
          "model_module": "@jupyter-widgets/base",
          "model_name": "LayoutModel",
          "model_module_version": "1.2.0",
          "state": {
            "_model_module": "@jupyter-widgets/base",
            "_model_module_version": "1.2.0",
            "_model_name": "LayoutModel",
            "_view_count": null,
            "_view_module": "@jupyter-widgets/base",
            "_view_module_version": "1.2.0",
            "_view_name": "LayoutView",
            "align_content": null,
            "align_items": null,
            "align_self": null,
            "border": null,
            "bottom": null,
            "display": null,
            "flex": null,
            "flex_flow": null,
            "grid_area": null,
            "grid_auto_columns": null,
            "grid_auto_flow": null,
            "grid_auto_rows": null,
            "grid_column": null,
            "grid_gap": null,
            "grid_row": null,
            "grid_template_areas": null,
            "grid_template_columns": null,
            "grid_template_rows": null,
            "height": "28px",
            "justify_content": null,
            "justify_items": null,
            "left": null,
            "margin": null,
            "max_height": null,
            "max_width": null,
            "min_height": null,
            "min_width": null,
            "object_fit": null,
            "object_position": null,
            "order": null,
            "overflow": null,
            "overflow_x": null,
            "overflow_y": null,
            "padding": "0px 0px 0px 4px",
            "right": null,
            "top": null,
            "visibility": null,
            "width": "28px"
          }
        },
        "559aab8580fd4091bfce4ede29b665d0": {
          "model_module": "@jupyter-widgets/controls",
          "model_name": "DescriptionStyleModel",
          "model_module_version": "1.5.0",
          "state": {
            "_model_module": "@jupyter-widgets/controls",
            "_model_module_version": "1.5.0",
            "_model_name": "DescriptionStyleModel",
            "_view_count": null,
            "_view_module": "@jupyter-widgets/base",
            "_view_module_version": "1.2.0",
            "_view_name": "StyleView",
            "description_width": ""
          }
        },
        "d8f9e49054c64bf4b0c6e301cbc4d06e": {
          "model_module": "jupyter-leaflet",
          "model_name": "LeafletMapStyleModel",
          "model_module_version": "^0.17",
          "state": {
            "_model_module": "jupyter-leaflet",
            "_model_module_version": "^0.17",
            "_model_name": "LeafletMapStyleModel",
            "_view_count": null,
            "_view_module": "@jupyter-widgets/base",
            "_view_module_version": "1.2.0",
            "_view_name": "StyleView",
            "cursor": "wait"
          }
        }
      }
    }
  },
  "nbformat": 4,
  "nbformat_minor": 5
}